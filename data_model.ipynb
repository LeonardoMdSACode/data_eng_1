{
 "cells": [
  {
   "attachments": {},
   "cell_type": "markdown",
   "metadata": {},
   "source": [
    "# CREATING TABLE ON POSTGRESQL\n",
    "(basic e.g. without pandas)"
   ]
  },
  {
   "cell_type": "code",
   "execution_count": 11,
   "metadata": {},
   "outputs": [],
   "source": [
    "import psycopg2"
   ]
  },
  {
   "attachments": {},
   "cell_type": "markdown",
   "metadata": {},
   "source": [
    "### Connect to DB"
   ]
  },
  {
   "cell_type": "code",
   "execution_count": 12,
   "metadata": {},
   "outputs": [],
   "source": [
    "try:\n",
    "                                        conn = psycopg2.connect(\"host=localhost dbname=postgres user=postgres password=admin\")\n",
    "except psycopg2.Error as e:\n",
    "                                        print(\"Error: Could not make connection to the PostgreSQL\")\n",
    "                                        print(e)"
   ]
  },
  {
   "attachments": {},
   "cell_type": "markdown",
   "metadata": {},
   "source": [
    "Adquire a cursor to execute queries"
   ]
  },
  {
   "cell_type": "code",
   "execution_count": 13,
   "metadata": {},
   "outputs": [],
   "source": [
    "try:\n",
    "                                        cur = conn.cursor()\n",
    "except psycopg2.Error as e:\n",
    "                                        print(\"Error: Curser to DB failed.\")\n",
    "                                        print(e)"
   ]
  },
  {
   "attachments": {},
   "cell_type": "markdown",
   "metadata": {},
   "source": [
    "Set up an automatic commit to be true so each action is commited without having to call conn.commit() each time"
   ]
  },
  {
   "cell_type": "code",
   "execution_count": 14,
   "metadata": {},
   "outputs": [],
   "source": [
    "conn.set_session(autocommit=True)"
   ]
  },
  {
   "attachments": {},
   "cell_type": "markdown",
   "metadata": {},
   "source": [
    "### Create the DB"
   ]
  },
  {
   "cell_type": "code",
   "execution_count": 15,
   "metadata": {},
   "outputs": [
    {
     "name": "stdout",
     "output_type": "stream",
     "text": [
      "database \"first_project\" already exists\n",
      "\n"
     ]
    }
   ],
   "source": [
    "try:\n",
    "                                        cur.execute(\"create database first_project\")\n",
    "except psycopg2.Error as e:\n",
    "                                        print(e)"
   ]
  },
  {
   "attachments": {},
   "cell_type": "markdown",
   "metadata": {},
   "source": [
    "Add DB to the connect statement.\n",
    "Close connection to default DB, reconnect to the Udacity DB and get new cursor."
   ]
  },
  {
   "cell_type": "code",
   "execution_count": 16,
   "metadata": {},
   "outputs": [],
   "source": [
    "try:\n",
    "                                        conn.close()\n",
    "except psycopg2.Error as e:\n",
    "                                        print(e)\n",
    "\n",
    "try:\n",
    "                                        conn = psycopg2.connect(\"host=localhost dbname=first_project user=postgres password=admin\")\n",
    "except psycopg2.Error as e:\n",
    "                                        print(\"Error: Failed to connect to PostgreSQL DB.\")\n",
    "                                        print(e)\n",
    "try:\n",
    "                                        cur = conn.cursor()\n",
    "except psycopg2.Error as e:\n",
    "                                        print(\"Error: Failed to get cursor into DB.\")\n",
    "                                        print(e)\n",
    "                                        \n",
    "conn.set_session(autocommit=True)"
   ]
  },
  {
   "attachments": {},
   "cell_type": "markdown",
   "metadata": {},
   "source": [
    "### Create Table for workers with columns below\n",
    "worker_id\n",
    "name\n",
    "age\n",
    "gender\n",
    "subject\n",
    "performance"
   ]
  },
  {
   "cell_type": "code",
   "execution_count": 17,
   "metadata": {},
   "outputs": [],
   "source": [
    "try:\n",
    "                                        cur.execute(\"CREATE TABLE IF NOT EXISTS workers (workers_id int, name varchar,\\\n",
    "                                        age int, gender varchar, subject varchar, performance int);\")\n",
    "except psycopg2.Error as e:\n",
    "                                        print(\"Error: Failed to create table.\")\n",
    "                                        print (e)                                        "
   ]
  },
  {
   "attachments": {},
   "cell_type": "markdown",
   "metadata": {},
   "source": [
    "### Insert some rows\n",
    "1, \"leo\", 22, \"Male\", \"Python\", 1\n",
    "2, \"Cat\", 22, \"Female\", \"Java\", 100"
   ]
  },
  {
   "cell_type": "code",
   "execution_count": 18,
   "metadata": {},
   "outputs": [],
   "source": [
    "try:\n",
    "    cur.execute(\"INSERT INTO workers (workers_id, name, age, gender, subject, performance) \\\n",
    "                 VALUES (%s, %s, %s, %s, %s, %s)\", \\\n",
    "                 (1, \"leo\", 22, \"Male\", \"Python\", 1))\n",
    "except psycopg2.Error as e:\n",
    "    print(\"Error: Failed to insert rows.\")\n",
    "    print(e)\n",
    "    \n",
    "try:\n",
    "    cur.execute(\"INSERT INTO workers (workers_id, name, age, gender, subject, performance) \\\n",
    "                 VALUES (%s, %s, %s, %s, %s, %s)\", \\\n",
    "                 (2, \"Cat\", 22, \"Female\", \"Java\", 100))\n",
    "except psycopg2.Error as e:\n",
    "    print(\"Error: Failed to insert rows.\")\n",
    "    print(e)\n"
   ]
  },
  {
   "attachments": {},
   "cell_type": "markdown",
   "metadata": {},
   "source": [
    "Validate your data was correctly inserted."
   ]
  },
  {
   "cell_type": "code",
   "execution_count": 19,
   "metadata": {},
   "outputs": [
    {
     "name": "stdout",
     "output_type": "stream",
     "text": [
      "(1, 'leo', 22, 'Male', 'Python', 1)\n",
      "(2, 'Cat', 22, 'Female', 'Java', 100)\n",
      "(1, 'leo', 22, 'Male', 'Python', 1)\n",
      "(2, 'Cat', 22, 'Female', 'Java', 100)\n",
      "(1, 'leo', 22, 'Male', 'Python', 1)\n",
      "(2, 'Cat', 22, 'Female', 'Java', 100)\n"
     ]
    }
   ],
   "source": [
    "try:\n",
    "                                        cur.execute(\"SELECT * FROM workers;\")\n",
    "except psycopg2.Error as e:\n",
    "                                        print(\"Error: select *\")\n",
    "                                        print(e)\n",
    "row = cur.fetchone()\n",
    "while row:\n",
    "                                        print(row)\n",
    "                                        row = cur.fetchone()"
   ]
  },
  {
   "attachments": {},
   "cell_type": "markdown",
   "metadata": {},
   "source": [
    "## Close your cursor and connection."
   ]
  },
  {
   "cell_type": "code",
   "execution_count": 20,
   "metadata": {},
   "outputs": [],
   "source": [
    "cur.close()\n",
    "conn.close()"
   ]
  }
 ],
 "metadata": {
  "kernelspec": {
   "display_name": "Python 3",
   "language": "python",
   "name": "python3"
  },
  "language_info": {
   "codemirror_mode": {
    "name": "ipython",
    "version": 3
   },
   "file_extension": ".py",
   "mimetype": "text/x-python",
   "name": "python",
   "nbconvert_exporter": "python",
   "pygments_lexer": "ipython3",
   "version": "3.10.10"
  },
  "orig_nbformat": 4
 },
 "nbformat": 4,
 "nbformat_minor": 2
}
